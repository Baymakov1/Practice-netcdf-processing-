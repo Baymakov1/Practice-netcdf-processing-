{
 "cells": [
  {
   "cell_type": "code",
   "execution_count": 15,
   "id": "5f251262",
   "metadata": {},
   "outputs": [],
   "source": [
    "\n",
    "import numpy as np\n",
    "#import pandas as pd\n",
    "#import matplotlib.pyplot as plt\n",
    "import netCDF4 as nc\n",
    "#import xarray as xr\n",
    "#import zarr"
   ]
  },
  {
   "cell_type": "code",
   "execution_count": 4,
   "id": "ff86c758",
   "metadata": {},
   "outputs": [],
   "source": [
    "from netCDF4 import Dataset   \n",
    "import numpy as np"
   ]
  },
  {
   "cell_type": "code",
   "execution_count": 8,
   "id": "e91d3df1",
   "metadata": {},
   "outputs": [],
   "source": [
    "# !pip install netCDF4\n",
    "#!pip install packaging\n",
    "#! pip install zarr"
   ]
  },
  {
   "cell_type": "code",
   "execution_count": 7,
   "id": "bbc2e1ec",
   "metadata": {},
   "outputs": [],
   "source": [
    "#data_pass = 'C:\\Ampere data\\20150317.1200.3600.600.north.grd.ncdf'\n",
    "#data = xr.open_dataset('C:\\Ampere data\\20150317.1200.3600.600.north.grd.ncdf')"
   ]
  },
  {
   "cell_type": "code",
   "execution_count": 19,
   "id": "846c417d",
   "metadata": {},
   "outputs": [
    {
     "data": {
      "text/plain": [
       "<class 'netCDF4._netCDF4.Dataset'>\n",
       "root group (NETCDF3_CLASSIC data model, file format NETCDF3):\n",
       "    title: Ampere data for 2015-03-17 12:00 - 2015-03-17 13:00.\n",
       "    description: AMPERE GRD data (fitted magnetic pertubation data).\n",
       "    created: 2024-06-30T03:33:54-04:00\n",
       "    dimensions(sizes): nRec(6), nObs(1200), vComp(3)\n",
       "    variables(dimensions): int16 npnt(nRec), int16 year(nRec), int16 doy(nRec), float32 time(nRec), int16 avgint(nRec), int16 kmax(nRec), int16 mmax(nRec), float32 res_deg(nRec), int16 nLatGrid(nRec), int16 nLonGrid(nRec), float32 cLat_deg(nRec, nObs), float32 mlt_hr(nRec, nObs), float32 geo_cLat_deg(nRec, nObs), float32 geo_lon_deg(nRec, nObs), float32 R(nRec, nObs), float32 pos_geo(nRec, nObs, vComp), float64 db_R(nRec, nObs), float64 db_T(nRec, nObs), float64 db_P(nRec, nObs), float64 db_geo(nRec, nObs, vComp), float64 jPar(nRec, nObs), float64 db_Th_Th(nRec, nObs), float64 db_Ph_Th(nRec, nObs), float64 db_Th_Ph(nRec, nObs), float64 db_Ph_Ph(nRec, nObs), float64 del_db_R(nRec, nObs), float64 del_db_T(nRec, nObs), float64 del_db_P(nRec, nObs), float64 del_db_geo(nRec, nObs, vComp), float64 del_jPar(nRec, nObs), float64 del_db_Th_Th(nRec, nObs), float64 del_db_Ph_Th(nRec, nObs), float64 del_db_Th_Ph(nRec, nObs), float64 del_db_Ph_Ph(nRec, nObs)\n",
       "    groups: "
      ]
     },
     "execution_count": 19,
     "metadata": {},
     "output_type": "execute_result"
    }
   ],
   "source": [
    "data= nc.Dataset('C:/Ampere data/20150317.1200.3600.600.north.grd.ncdf')\n",
    "data"
   ]
  },
  {
   "cell_type": "code",
   "execution_count": 20,
   "id": "5d130d25",
   "metadata": {},
   "outputs": [
    {
     "name": "stdout",
     "output_type": "stream",
     "text": [
      "dict_keys(['npnt', 'year', 'doy', 'time', 'avgint', 'kmax', 'mmax', 'res_deg', 'nLatGrid', 'nLonGrid', 'cLat_deg', 'mlt_hr', 'geo_cLat_deg', 'geo_lon_deg', 'R', 'pos_geo', 'db_R', 'db_T', 'db_P', 'db_geo', 'jPar', 'db_Th_Th', 'db_Ph_Th', 'db_Th_Ph', 'db_Ph_Ph', 'del_db_R', 'del_db_T', 'del_db_P', 'del_db_geo', 'del_jPar', 'del_db_Th_Th', 'del_db_Ph_Th', 'del_db_Th_Ph', 'del_db_Ph_Ph'])\n"
     ]
    }
   ],
   "source": [
    "print(data.variables.keys())"
   ]
  },
  {
   "cell_type": "code",
   "execution_count": 95,
   "id": "d504a3c1",
   "metadata": {},
   "outputs": [
    {
     "name": "stdout",
     "output_type": "stream",
     "text": [
      "<class 'netCDF4._netCDF4.Variable'>\n",
      "float64 del_db_Ph_Ph(nRec, nObs)\n",
      "    comment: Magnetic field residual parallel to the AACGM eastward direction in units of nano-Tesla.\n",
      "unlimited dimensions: \n",
      "current shape = (6, 1200)\n",
      "filling on, default _FillValue of 9.969209968386869e+36 used\n"
     ]
    }
   ],
   "source": [
    "kmax= data.variables['del_db_Ph_Ph']\n",
    "print (kmax)"
   ]
  },
  {
   "cell_type": "code",
   "execution_count": 43,
   "id": "a0606685",
   "metadata": {},
   "outputs": [],
   "source": [
    "# npnt = количество зарегистрированных наблюдений\n",
    "# kmax = порядок соответствия широты\n",
    "# mmax = порядок соответствия долготы\n",
    "# res_deg = разрешение широты сетки в градусах\n",
    "# nLatGrid = количество точек широты в сетке\n",
    "# nLonGrid = количество точек долготы в сетке\n",
    "# cLat_deg = совместная широта в координатах AACGM в градусах\n",
    "# mlt_hr = Магнитное местное время (MLT) AACGM в часах\n",
    "# geo_cLat_deg = совместная широта в координатах GEO в градусах\n",
    "# geo_lon_deg = совместная широта в координатах GEO в градусах\n",
    "# R = Радиус от центра Земли в километрах\n",
    "# pos_geo = позиция в геокоординатах в километрах\n",
    "# db_R = возмущение магнитного поля параллельно радиальному направлению ГСО в единицах нано-Тесла\n",
    "# db_T = возмущение магнитного поля параллельно северному направлению ГСО в единицах нано-Тесла.\n",
    "# db_P = возмущение магнитного поля параллельно восточному направлению ГСО в единицах нано-Тесла\n",
    "# db_geo - *проверить при построении\n",
    "# jPar = Радиальная плотность тока [muA/m^2]\n",
    "# db_Th_Th = Возмущение магнитного поля, параллельное северному направлению AACGM, в единицах нано-Тесла.\n",
    "# db_Ph_Th = Возмущение магнитного поля, перпендикулярное северному направлению AACGM, в единицах нано-Тесла\n",
    "# db_Th_Ph = Возмущение магнитного поля, перпендикулярное восточному направлению AACGM, в единицах нано-Тесла\n",
    "# db_Ph_Ph = Возмущение магнитного поля параллельно восточному направлению AACGM в единицах нано-Тесла\n",
    "# del_db_R = Остаточное магнитное поле параллельно радиальному направлению ГСО в единицах нано-Тесла\n",
    "# del_db_T = остаточное магнитное поле параллельно северному направлению ГСО в единицах нано-Тесла\n",
    "# del_db_P = Остаточное магнитное поле параллельно восточному направлению ГСО в единицах нано-Тесла\n",
    "# del_db_geo = Остаточное магнитное поле в координатах GEO в единицах нано-Тесла\n",
    "# del_jPar = Остаточная плотность радиального тока\n",
    "# del_db_Th_Th = Остаточное магнитное поле параллельно северному направлению AACGM в единицах нано-Тесла\n",
    "# del_db_Ph_Th = Остаточное магнитное поле перпендикулярно северному направлению AACGM в единицах нано-Тесла\n",
    "# del_db_Th_Ph = Остаточное магнитное поле перпендикулярно восточному направлению AACGM в единицах нано-Тесла\n",
    "# del_db_Ph_Ph = Остаточное магнитное поле параллельно восточному направлению AACGM в единицах нано-Тесла"
   ]
  },
  {
   "cell_type": "code",
   "execution_count": 44,
   "id": "c88447d7",
   "metadata": {},
   "outputs": [
    {
     "name": "stdout",
     "output_type": "stream",
     "text": [
      "<class 'netCDF4._netCDF4.Variable'>\n",
      "float32 R(nRec, nObs)\n",
      "    comment: Radius from center of the Earth in kilometers.\n",
      "unlimited dimensions: \n",
      "current shape = (6, 1200)\n",
      "filling on, default _FillValue of 9.969209968386869e+36 used\n"
     ]
    }
   ],
   "source": [
    "R = data.variables['R'] #возмущение магнитного поля параллельно радиальному направлению ГСО в единицах нано-Тесла.\n",
    "print (R)"
   ]
  },
  {
   "cell_type": "code",
   "execution_count": 97,
   "id": "f70c38d2",
   "metadata": {},
   "outputs": [
    {
     "name": "stdout",
     "output_type": "stream",
     "text": [
      "<class 'netCDF4._netCDF4.Variable'>\n",
      "float64 jPar(nRec, nObs)\n",
      "    comment: Radial current density [muA/m^2]\n",
      "unlimited dimensions: \n",
      "current shape = (6, 1200)\n",
      "filling on, default _FillValue of 9.969209968386869e+36 used\n"
     ]
    }
   ],
   "source": [
    "jPar= data.variables['jPar'] #возмущение магнитного поля параллельно северному направлению ГСО в единицах нано-Тесла.\n",
    "print (jPar)"
   ]
  },
  {
   "cell_type": "code",
   "execution_count": 111,
   "id": "158cc929",
   "metadata": {},
   "outputs": [
    {
     "name": "stdout",
     "output_type": "stream",
     "text": [
      "('nRec', <class 'netCDF4._netCDF4.Dimension'>: name = 'nRec', size = 6)\n",
      "('nObs', <class 'netCDF4._netCDF4.Dimension'>: name = 'nObs', size = 1200)\n",
      "('vComp', <class 'netCDF4._netCDF4.Dimension'>: name = 'vComp', size = 3)\n"
     ]
    }
   ],
   "source": [
    "for d in data.dimensions.items():\n",
    "  print(d)"
   ]
  },
  {
   "cell_type": "code",
   "execution_count": 112,
   "id": "e54a9627",
   "metadata": {},
   "outputs": [
    {
     "data": {
      "text/plain": [
       "(('nRec', 'nObs'), (6, 1200))"
      ]
     },
     "execution_count": 112,
     "metadata": {},
     "output_type": "execute_result"
    }
   ],
   "source": [
    "jPar.dimensions, jPar.shape"
   ]
  },
  {
   "cell_type": "code",
   "execution_count": 114,
   "id": "e28ea3c7",
   "metadata": {},
   "outputs": [],
   "source": [
    "#n_Rec = data.variables['nRec']"
   ]
  },
  {
   "cell_type": "code",
   "execution_count": null,
   "id": "9e4dfdd9",
   "metadata": {},
   "outputs": [],
   "source": []
  }
 ],
 "metadata": {
  "kernelspec": {
   "display_name": "Python 3 (ipykernel)",
   "language": "python",
   "name": "python3"
  },
  "language_info": {
   "codemirror_mode": {
    "name": "ipython",
    "version": 3
   },
   "file_extension": ".py",
   "mimetype": "text/x-python",
   "name": "python",
   "nbconvert_exporter": "python",
   "pygments_lexer": "ipython3",
   "version": "3.11.4"
  }
 },
 "nbformat": 4,
 "nbformat_minor": 5
}
